{
 "cells": [
  {
   "cell_type": "code",
   "execution_count": 1,
   "id": "3b07e471-8e62-4237-aa3d-9f8eb79dc78d",
   "metadata": {},
   "outputs": [],
   "source": [
    "# Import the NumPy library with the alias np.\n",
    "import numpy as np"
   ]
  },
  {
   "cell_type": "code",
   "execution_count": 2,
   "id": "c3a230bd-c3ff-4b5c-85d2-e3894d1f0773",
   "metadata": {},
   "outputs": [
    {
     "name": "stdout",
     "output_type": "stream",
     "text": [
      "[1 2 3 4 5]\n"
     ]
    }
   ],
   "source": [
    "# Create a 1D NumPy array from the Python list [1, 2, 3, 4, 5]. \n",
    "arr = np.array([1, 2, 3, 4, 5])\n",
    "print(arr)"
   ]
  },
  {
   "cell_type": "code",
   "execution_count": 3,
   "id": "214fe274-6d5a-40be-a6d6-a9e88eebc0a5",
   "metadata": {},
   "outputs": [
    {
     "name": "stdout",
     "output_type": "stream",
     "text": [
      "[0. 0. 0. 0. 0. 0. 0. 0. 0. 0.]\n"
     ]
    }
   ],
   "source": [
    "# Create a 1D array of 10 zeros. \n",
    "zeros_arr = np.zeros(10)\n",
    "print(zeros_arr)"
   ]
  },
  {
   "cell_type": "code",
   "execution_count": 4,
   "id": "4b1b6af3-b121-49e9-8058-dbb8bc0dbb13",
   "metadata": {},
   "outputs": [
    {
     "name": "stdout",
     "output_type": "stream",
     "text": [
      "[[1. 1. 1.]\n",
      " [1. 1. 1.]\n",
      " [1. 1. 1.]]\n"
     ]
    }
   ],
   "source": [
    "# Create a 3x3 array filled with ones. \n",
    "ones_arr = np.ones((3, 3))\n",
    "print(ones_arr)"
   ]
  },
  {
   "cell_type": "code",
   "execution_count": 5,
   "id": "8348f198-f711-4780-9fa1-105300a9ec5e",
   "metadata": {},
   "outputs": [
    {
     "name": "stdout",
     "output_type": "stream",
     "text": [
      "[10 12 14 16 18 20 22 24 26 28 30 32 34 36 38 40 42 44 46 48 50]\n"
     ]
    }
   ],
   "source": [
    "# Create an array of all even integers from 10 to 50.\n",
    "even_arr = np.arange(10, 51, 2)\n",
    "print(even_arr)"
   ]
  },
  {
   "cell_type": "code",
   "execution_count": 6,
   "id": "ccc33972-31ca-46a4-893d-0d98f206ff32",
   "metadata": {},
   "outputs": [
    {
     "name": "stdout",
     "output_type": "stream",
     "text": [
      "[[0 1 2]\n",
      " [3 4 5]\n",
      " [6 7 8]]\n"
     ]
    }
   ],
   "source": [
    "# Create a 3x3 matrix with values ranging from 0 to 8. \n",
    "matrix = np.arange(9).reshape(3, 3)\n",
    "print(matrix)"
   ]
  },
  {
   "cell_type": "code",
   "execution_count": 7,
   "id": "8729be72-693c-4483-ba1f-5bbeefe59f76",
   "metadata": {},
   "outputs": [
    {
     "name": "stdout",
     "output_type": "stream",
     "text": [
      "[[1. 0. 0. 0.]\n",
      " [0. 1. 0. 0.]\n",
      " [0. 0. 1. 0.]\n",
      " [0. 0. 0. 1.]]\n"
     ]
    }
   ],
   "source": [
    "# Create a 4x4 identity matrix. \n",
    "identity_matrix = np.eye(4)\n",
    "print(identity_matrix)"
   ]
  },
  {
   "cell_type": "code",
   "execution_count": 8,
   "id": "849c5998-7d05-43d6-8210-5f0eb1849775",
   "metadata": {},
   "outputs": [
    {
     "name": "stdout",
     "output_type": "stream",
     "text": [
      "[0.   0.25 0.5  0.75 1.  ]\n"
     ]
    }
   ],
   "source": [
    "# Create an array of 5 numbers evenly spaced between 0 and 1. \n",
    "evenly_spaced = np.linspace(0, 1, 5)\n",
    "print(evenly_spaced)"
   ]
  },
  {
   "cell_type": "code",
   "execution_count": 9,
   "id": "e865635a-70ad-4771-bfa3-48227eaac291",
   "metadata": {},
   "outputs": [
    {
     "name": "stdout",
     "output_type": "stream",
     "text": [
      "[[0.26440699 0.40246237 0.20123926 0.3729223 ]\n",
      " [0.04566978 0.35836502 0.95149545 0.16534081]\n",
      " [0.77904706 0.57419919 0.29597515 0.86348067]]\n"
     ]
    }
   ],
   "source": [
    "# Create a 3x4 array filled with random numbers between 0 and 1.\n",
    "random_matrix = np.random.rand(3, 4)\n",
    "print(random_matrix)"
   ]
  },
  {
   "cell_type": "code",
   "execution_count": 10,
   "id": "f15127fa-2812-47a6-91e7-e463eca0a68f",
   "metadata": {},
   "outputs": [
    {
     "name": "stdout",
     "output_type": "stream",
     "text": [
      "[[ 38  40  70  93   8]\n",
      " [100  53  77  10  66]\n",
      " [ 26  48  31  41  46]\n",
      " [ 97  81  19  76  47]\n",
      " [ 30  87  12  18  50]]\n"
     ]
    }
   ],
   "source": [
    "# Create a 5x5 array with random integers from 1 to 100.\n",
    "random_int_matrix = np.random.randint(1, 101, (5, 5))\n",
    "print(random_int_matrix)"
   ]
  },
  {
   "cell_type": "code",
   "execution_count": 11,
   "id": "d64984f3-3393-4d10-a15d-365975ab2493",
   "metadata": {},
   "outputs": [
    {
     "name": "stdout",
     "output_type": "stream",
     "text": [
      "(5, 5)\n"
     ]
    }
   ],
   "source": [
    "# Given the array arr = np.arange(25).reshape(5, 5), find its shape. \n",
    "arr = np.arange(25).reshape(5, 5)\n",
    "print(arr.shape)"
   ]
  },
  {
   "cell_type": "code",
   "execution_count": 12,
   "id": "d100857a-b497-4c10-9bbd-2a93be38e1b0",
   "metadata": {},
   "outputs": [
    {
     "name": "stdout",
     "output_type": "stream",
     "text": [
      "int64\n"
     ]
    }
   ],
   "source": [
    "# For the same array arr, find its data type. \n",
    "arr = np.arange(25).reshape(5, 5)\n",
    "print(arr.dtype)"
   ]
  },
  {
   "cell_type": "code",
   "execution_count": 14,
   "id": "29144db7-0049-4172-999f-c11f570e8905",
   "metadata": {},
   "outputs": [
    {
     "name": "stdout",
     "output_type": "stream",
     "text": [
      "25\n"
     ]
    }
   ],
   "source": [
    "# For the same array arr, find the total number of elements.\n",
    "arr = np.arange(25).reshape(5, 5)\n",
    "print(arr.size)"
   ]
  },
  {
   "cell_type": "code",
   "execution_count": 15,
   "id": "86074861-2cbb-4f5a-bccc-a4be597c713a",
   "metadata": {},
   "outputs": [
    {
     "name": "stdout",
     "output_type": "stream",
     "text": [
      "[1. 2. 3.]\n"
     ]
    }
   ],
   "source": [
    "#  Create the array [1, 2, 3] but make sure its data type is float.\n",
    "float_arr = np.array([1, 2, 3], dtype=float)\n",
    "print(float_arr)"
   ]
  },
  {
   "cell_type": "code",
   "execution_count": 16,
   "id": "89190eb0-6180-4ba5-bf74-af274b339d5b",
   "metadata": {},
   "outputs": [
    {
     "name": "stdout",
     "output_type": "stream",
     "text": [
      "[10. 20. 30. 40.]\n"
     ]
    }
   ],
   "source": [
    "#  Convert the data type of an existing integer array to float. \n",
    "int_arr = np.array([10, 20, 30, 40])\n",
    "float_arr = int_arr.astype(float)\n",
    "print(float_arr)"
   ]
  },
  {
   "cell_type": "code",
   "execution_count": 17,
   "id": "8f3360b8-3c2e-4790-b3f6-f034c99e5e9f",
   "metadata": {},
   "outputs": [],
   "source": [
    "arr_1d = np.arange(10)\n",
    "arr_2d = np.array([[1, 2, 3],\n",
    "                   [4, 5, 6],\n",
    "                   [7, 8, 9]])"
   ]
  },
  {
   "cell_type": "code",
   "execution_count": 18,
   "id": "43b55619-e217-4738-bb47-fdb9644b105b",
   "metadata": {},
   "outputs": [
    {
     "name": "stdout",
     "output_type": "stream",
     "text": [
      "0\n"
     ]
    }
   ],
   "source": [
    "#  From arr_1d, get the first element.\n",
    "print(arr_1d[0])"
   ]
  },
  {
   "cell_type": "code",
   "execution_count": 19,
   "id": "54ab719e-a466-48da-b310-3bad2c6b864f",
   "metadata": {},
   "outputs": [
    {
     "name": "stdout",
     "output_type": "stream",
     "text": [
      "9\n"
     ]
    }
   ],
   "source": [
    "# From arr_1d, get the last element.\n",
    "print(arr_1d[-1])"
   ]
  },
  {
   "cell_type": "code",
   "execution_count": 20,
   "id": "151398cb-24de-4ce6-a773-e8e8032bc5da",
   "metadata": {},
   "outputs": [
    {
     "name": "stdout",
     "output_type": "stream",
     "text": [
      "[2 3 4 5]\n"
     ]
    }
   ],
   "source": [
    "#  From arr_1d, get the elements from index 2 up to index 5. \n",
    "print(arr_1d[2:6])"
   ]
  },
  {
   "cell_type": "code",
   "execution_count": 21,
   "id": "6a8f9966-c92f-442e-a938-5381f055b282",
   "metadata": {},
   "outputs": [
    {
     "name": "stdout",
     "output_type": "stream",
     "text": [
      "[9 8 7 6 5 4 3 2 1 0]\n"
     ]
    }
   ],
   "source": [
    "#  From arr_1d, get all elements in reverse order.\n",
    "print(arr_1d[::-1])"
   ]
  },
  {
   "cell_type": "code",
   "execution_count": 22,
   "id": "fe0c749a-242e-4a5b-b819-27b0add82506",
   "metadata": {},
   "outputs": [
    {
     "name": "stdout",
     "output_type": "stream",
     "text": [
      "6\n"
     ]
    }
   ],
   "source": [
    "# From arr_2d, get the element at row 1, column 2 (which is 6). \n",
    "print(arr_2d[1, 2])"
   ]
  },
  {
   "cell_type": "code",
   "execution_count": 23,
   "id": "3fa20df5-c850-42e0-a54f-97f009cf02eb",
   "metadata": {},
   "outputs": [
    {
     "name": "stdout",
     "output_type": "stream",
     "text": [
      "[1 2 3]\n"
     ]
    }
   ],
   "source": [
    "#  From arr_2d, get the entire first row [1, 2, 3]. \n",
    "print(arr_2d[0])"
   ]
  },
  {
   "cell_type": "code",
   "execution_count": 24,
   "id": "3641c08a-bb75-40e8-bd58-b500b2860ee9",
   "metadata": {},
   "outputs": [
    {
     "name": "stdout",
     "output_type": "stream",
     "text": [
      "[2 5 8]\n"
     ]
    }
   ],
   "source": [
    "# From arr_2d, get the entire second column [2, 5, 8].\n",
    "print(arr_2d[:, 1])"
   ]
  },
  {
   "cell_type": "code",
   "execution_count": 25,
   "id": "75f29b27-d952-42cc-b72a-86c7e8e8bdaf",
   "metadata": {},
   "outputs": [
    {
     "name": "stdout",
     "output_type": "stream",
     "text": [
      "[[1 2]\n",
      " [4 5]]\n"
     ]
    }
   ],
   "source": [
    "#  From arr_2d, extract the sub-array [[1, 2], [4, 5]]. \n",
    "print(arr_2d[:2, :2])"
   ]
  },
  {
   "cell_type": "code",
   "execution_count": 26,
   "id": "12e14b2c-f8cf-4e21-bfc9-f220f96ffd7c",
   "metadata": {},
   "outputs": [
    {
     "name": "stdout",
     "output_type": "stream",
     "text": [
      "[False False False False False False  True  True  True  True]\n"
     ]
    }
   ],
   "source": [
    "#  Create a boolean mask to find all numbers in arr_1d that are greater than 5. \n",
    "mask = arr_1d > 5\n",
    "print(mask)"
   ]
  },
  {
   "cell_type": "code",
   "execution_count": 27,
   "id": "bc1af47e-228d-4720-9b42-0c4e58617186",
   "metadata": {},
   "outputs": [
    {
     "name": "stdout",
     "output_type": "stream",
     "text": [
      "[6 7 8 9]\n"
     ]
    }
   ],
   "source": [
    "# Use the boolean mask from the previous question to select the actual numbers from arr_1d. \n",
    "print(arr_1d[arr_1d > 5])"
   ]
  },
  {
   "cell_type": "code",
   "execution_count": 28,
   "id": "d4073258-cd0c-45ae-9953-519fb904f40e",
   "metadata": {},
   "outputs": [
    {
     "name": "stdout",
     "output_type": "stream",
     "text": [
      "[1 3 5 7 9]\n"
     ]
    }
   ],
   "source": [
    "# In one line, select all numbers from arr_2d that are odd. \n",
    "print(arr_2d[arr_2d % 2 != 0])"
   ]
  },
  {
   "cell_type": "code",
   "execution_count": 29,
   "id": "c8646e0a-8a38-47e6-90ce-e31634955100",
   "metadata": {},
   "outputs": [
    {
     "name": "stdout",
     "output_type": "stream",
     "text": [
      "[0 1 2 3 4 5 0 0 0 0]\n"
     ]
    }
   ],
   "source": [
    "#  In arr_1d, replace all values greater than 5 with the value 0. \n",
    "arr_1d[arr_1d > 5] = 0\n",
    "print(arr_1d)"
   ]
  },
  {
   "cell_type": "code",
   "execution_count": 30,
   "id": "b88fed71-7a8a-4c40-b47d-7cbd483e5c87",
   "metadata": {},
   "outputs": [
    {
     "name": "stdout",
     "output_type": "stream",
     "text": [
      "[1 3 0]\n"
     ]
    }
   ],
   "source": [
    "#  From arr_1d, select the elements at indices 1, 3, and 7. \n",
    "print(arr_1d[[1, 3, 7]])"
   ]
  },
  {
   "cell_type": "code",
   "execution_count": 31,
   "id": "5031cd6c-193d-46b8-8497-da036e94065d",
   "metadata": {},
   "outputs": [
    {
     "name": "stdout",
     "output_type": "stream",
     "text": [
      "[[1 2 3]\n",
      " [7 8 9]]\n"
     ]
    }
   ],
   "source": [
    "# From arr_2d, select the first and third rows. \n",
    "print(arr_2d[[0, 2]])"
   ]
  },
  {
   "cell_type": "code",
   "execution_count": 32,
   "id": "03610d92-20f4-4c1a-b8c6-03561f7b8544",
   "metadata": {},
   "outputs": [
    {
     "name": "stdout",
     "output_type": "stream",
     "text": [
      "Modified slice: [99 99 99]\n",
      "Original arr_1d after slice modification: [ 0  1 99 99 99  5  0  0  0  0]\n"
     ]
    }
   ],
   "source": [
    "# What is the difference between a slice (view) and a fancy index (copy)? Modify a slice of arr_1d and see if the original changes.\n",
    "# Slice (view)\n",
    "slice_view = arr_1d[2:5]\n",
    "slice_view[:] = 99\n",
    "print(\"Modified slice:\", slice_view)\n",
    "print(\"Original arr_1d after slice modification:\", arr_1d)"
   ]
  },
  {
   "cell_type": "code",
   "execution_count": 33,
   "id": "dafb5fd3-adc0-497f-9891-dcbf1e2ec209",
   "metadata": {},
   "outputs": [
    {
     "name": "stdout",
     "output_type": "stream",
     "text": [
      "Modified copy:\n",
      " [[999   2   3]\n",
      " [  4   5   6]\n",
      " [  7   8   9]]\n",
      "Original arr_2d:\n",
      " [[1 2 3]\n",
      " [4 5 6]\n",
      " [7 8 9]]\n"
     ]
    }
   ],
   "source": [
    "# Create a copy of arr_2d and modify an element in the copy. Check if the original array is affected.\n",
    "arr_2d_copy = arr_2d.copy()\n",
    "arr_2d_copy[0, 0] = 999\n",
    "\n",
    "print(\"Modified copy:\\n\", arr_2d_copy)\n",
    "print(\"Original arr_2d:\\n\", arr_2d)"
   ]
  },
  {
   "cell_type": "code",
   "execution_count": 34,
   "id": "31a8d002-af35-46a3-a839-da99e07125aa",
   "metadata": {},
   "outputs": [
    {
     "name": "stdout",
     "output_type": "stream",
     "text": [
      "[1 5 9]\n"
     ]
    }
   ],
   "source": [
    "#  From arr_2d, get the diagonal elements [1, 5, 9].\n",
    "print(np.diag(arr_2d))"
   ]
  },
  {
   "cell_type": "code",
   "execution_count": 36,
   "id": "3aaa4d0d-5725-4cc1-90ff-f573942b8df9",
   "metadata": {},
   "outputs": [
    {
     "name": "stdout",
     "output_type": "stream",
     "text": [
      "[[1 2 3]\n",
      " [4 5 6]]\n"
     ]
    }
   ],
   "source": [
    "# Select all rows from arr_2d where the first element is less than 5. \n",
    "print(arr_2d[arr_2d[:, 0] < 5])"
   ]
  },
  {
   "cell_type": "code",
   "execution_count": 37,
   "id": "5832fadc-f311-4f21-a568-1e99b2da8232",
   "metadata": {},
   "outputs": [
    {
     "name": "stdout",
     "output_type": "stream",
     "text": [
      "[2 4 9]\n"
     ]
    }
   ],
   "source": [
    "#  From arr_2d, select the elements [2, 4, 9]. \n",
    "print(arr_2d[[0, 1, 2], [1, 0, 2]])"
   ]
  },
  {
   "cell_type": "code",
   "execution_count": 38,
   "id": "380e9d40-a3f1-4b5d-948b-88e21203215d",
   "metadata": {},
   "outputs": [
    {
     "name": "stdout",
     "output_type": "stream",
     "text": [
      "[[7 8 9]\n",
      " [4 5 6]\n",
      " [1 2 3]]\n"
     ]
    }
   ],
   "source": [
    "#  Reverse the order of the rows in arr_2d. \n",
    "print(arr_2d[::-1])"
   ]
  },
  {
   "cell_type": "code",
   "execution_count": 39,
   "id": "e3a4ef36-1367-46a6-adc6-2198bfb568e1",
   "metadata": {},
   "outputs": [],
   "source": [
    "import numpy as np\n",
    "\n",
    "a = np.array([1, 2, 3, 4])\n",
    "b = np.array([5, 6, 7, 8])"
   ]
  },
  {
   "cell_type": "code",
   "execution_count": 40,
   "id": "81c8c367-cfb5-40f0-8a0c-2d12779adab7",
   "metadata": {},
   "outputs": [
    {
     "name": "stdout",
     "output_type": "stream",
     "text": [
      "[ 6  8 10 12]\n"
     ]
    }
   ],
   "source": [
    "#  Add array a and b element-wise. \n",
    "print(a + b)"
   ]
  },
  {
   "cell_type": "code",
   "execution_count": 41,
   "id": "4f551128-9b8a-4716-a540-67f891ac7617",
   "metadata": {},
   "outputs": [
    {
     "name": "stdout",
     "output_type": "stream",
     "text": [
      "[ 3  6  9 12]\n"
     ]
    }
   ],
   "source": [
    "# Multiply array a by 3 (scalar multiplication). \n",
    "print(a * 3)"
   ]
  },
  {
   "cell_type": "code",
   "execution_count": 42,
   "id": "dd666b95-b3f7-4455-8444-46fa5ea4e2d8",
   "metadata": {},
   "outputs": [
    {
     "name": "stdout",
     "output_type": "stream",
     "text": [
      "[ 1  4  9 16]\n"
     ]
    }
   ],
   "source": [
    "#  Calculate the square of every element in array a. \n",
    "print(np.square(a))"
   ]
  },
  {
   "cell_type": "code",
   "execution_count": 43,
   "id": "b7e1d981-b38d-45fe-957f-705de04e4098",
   "metadata": {},
   "outputs": [
    {
     "name": "stdout",
     "output_type": "stream",
     "text": [
      "[2.23606798 2.44948974 2.64575131 2.82842712]\n"
     ]
    }
   ],
   "source": [
    "#  Calculate the square root of every element in b. \n",
    "print(np.sqrt(b))"
   ]
  },
  {
   "cell_type": "code",
   "execution_count": 44,
   "id": "baae31b6-3ae0-47a4-8389-2f4a45e414c7",
   "metadata": {},
   "outputs": [
    {
     "name": "stdout",
     "output_type": "stream",
     "text": [
      "[ 2.71828183  7.3890561  20.08553692 54.59815003]\n"
     ]
    }
   ],
   "source": [
    "# Calculate the exponential (e^x) of every element in a. \n",
    "print(np.exp(a))"
   ]
  },
  {
   "cell_type": "code",
   "execution_count": 45,
   "id": "a6f1aec8-dd97-4506-a480-76aadd7cf925",
   "metadata": {},
   "outputs": [
    {
     "name": "stdout",
     "output_type": "stream",
     "text": [
      "10\n"
     ]
    }
   ],
   "source": [
    "# Find the sum of all elements in a. \n",
    "print(np.sum(a))"
   ]
  },
  {
   "cell_type": "code",
   "execution_count": 46,
   "id": "b39b3ca2-8254-4c25-9a7a-2e1f2308119e",
   "metadata": {},
   "outputs": [
    {
     "name": "stdout",
     "output_type": "stream",
     "text": [
      "6.5\n"
     ]
    }
   ],
   "source": [
    "# Find the mean of all elements in b. \n",
    "print(np.mean(b))"
   ]
  },
  {
   "cell_type": "code",
   "execution_count": 47,
   "id": "0d696b4a-7783-4596-a43f-4377d71efdd5",
   "metadata": {},
   "outputs": [
    {
     "name": "stdout",
     "output_type": "stream",
     "text": [
      "4\n"
     ]
    }
   ],
   "source": [
    "# Find the maximum value in a. \n",
    "print(np.max(a))"
   ]
  },
  {
   "cell_type": "code",
   "execution_count": 48,
   "id": "af60e536-c342-4548-bac5-a84f808a4c7c",
   "metadata": {},
   "outputs": [
    {
     "name": "stdout",
     "output_type": "stream",
     "text": [
      "5\n"
     ]
    }
   ],
   "source": [
    "# Find the minimum value in b.\n",
    "print(np.min(b))"
   ]
  },
  {
   "cell_type": "code",
   "execution_count": 49,
   "id": "0f476cb1-6f93-452a-8b64-10a8c9ad5265",
   "metadata": {},
   "outputs": [
    {
     "name": "stdout",
     "output_type": "stream",
     "text": [
      "66\n"
     ]
    }
   ],
   "source": [
    "#  Given a 2D array matrix = np.arange(12).reshape(3, 4), find the sum of all its elements.\n",
    "matrix = np.arange(12).reshape(3, 4)\n",
    "print(matrix.sum())"
   ]
  },
  {
   "cell_type": "code",
   "execution_count": 50,
   "id": "519ca571-21e4-4e73-a5e4-a26b65e1281f",
   "metadata": {},
   "outputs": [
    {
     "name": "stdout",
     "output_type": "stream",
     "text": [
      "[12 15 18 21]\n"
     ]
    }
   ],
   "source": [
    "# For the matrix, find the sum of each column.\n",
    "print(matrix.sum(axis=0))"
   ]
  },
  {
   "cell_type": "code",
   "execution_count": 51,
   "id": "02bbb6b0-55e6-4f00-b984-ba45f790eb21",
   "metadata": {},
   "outputs": [
    {
     "name": "stdout",
     "output_type": "stream",
     "text": [
      "[1.5 5.5 9.5]\n"
     ]
    }
   ],
   "source": [
    "#  For the matrix, find the mean of each row. \n",
    "print(matrix.mean(axis=1))"
   ]
  },
  {
   "cell_type": "code",
   "execution_count": 52,
   "id": "fc08eb22-daf1-429c-b8ae-387d85d5aba8",
   "metadata": {},
   "outputs": [
    {
     "name": "stdout",
     "output_type": "stream",
     "text": [
      "[0 4 8]\n"
     ]
    }
   ],
   "source": [
    "# For the matrix, find the minimum value in each row. \n",
    "print(matrix.min(axis=1))"
   ]
  },
  {
   "cell_type": "code",
   "execution_count": 53,
   "id": "592000ef-55ee-4af2-8eed-2efa7f43ed8c",
   "metadata": {},
   "outputs": [
    {
     "name": "stdout",
     "output_type": "stream",
     "text": [
      "[5 6 7 8]\n"
     ]
    }
   ],
   "source": [
    "# Create a new array by finding which element is larger at each position between a and b.\n",
    "print(np.maximum(a, b))"
   ]
  },
  {
   "cell_type": "code",
   "execution_count": 54,
   "id": "76005490-b82d-4ece-bdac-fb27ab4d2370",
   "metadata": {},
   "outputs": [
    {
     "name": "stdout",
     "output_type": "stream",
     "text": [
      "[2. 2. 4.]\n"
     ]
    }
   ],
   "source": [
    "#  Round all values in the array arr_float = np.array([1.5, 2.3, 3.8]) to the nearest integer.\n",
    "arr_float = np.array([1.5, 2.3, 3.8])\n",
    "print(np.round(arr_float))"
   ]
  },
  {
   "cell_type": "code",
   "execution_count": 55,
   "id": "e0f0e75a-bec1-49ed-872e-ebff8e267edf",
   "metadata": {},
   "outputs": [
    {
     "name": "stdout",
     "output_type": "stream",
     "text": [
      "1.118033988749895\n"
     ]
    }
   ],
   "source": [
    "# Calculate the standard deviation of array a. \n",
    "print(np.std(a))"
   ]
  },
  {
   "cell_type": "code",
   "execution_count": 56,
   "id": "1aa10950-d2a0-433b-859c-f7f79e2b562d",
   "metadata": {},
   "outputs": [
    {
     "name": "stdout",
     "output_type": "stream",
     "text": [
      "[ 1  3  6 10]\n"
     ]
    }
   ],
   "source": [
    "#  Calculate the cumulative sum of a. The result should be [1, 3, 6, 10].\n",
    "print(np.cumsum(a))"
   ]
  },
  {
   "cell_type": "code",
   "execution_count": 57,
   "id": "2fd878fb-7ecf-49af-b0f9-44aa45b1ad11",
   "metadata": {},
   "outputs": [
    {
     "name": "stdout",
     "output_type": "stream",
     "text": [
      "[False False False False]\n"
     ]
    }
   ],
   "source": [
    "#  Compare arrays a and b to see if they are equal element-wise. \n",
    "print(a == b)"
   ]
  },
  {
   "cell_type": "code",
   "execution_count": 58,
   "id": "f4441271-476d-4df8-af1f-e93d104816cd",
   "metadata": {},
   "outputs": [
    {
     "name": "stdout",
     "output_type": "stream",
     "text": [
      "True\n"
     ]
    }
   ],
   "source": [
    "# Check if any element in the result of a > 2 is True.\n",
    "print((a > 2).any())"
   ]
  },
  {
   "cell_type": "code",
   "execution_count": 59,
   "id": "b62ec2d4-7418-46c2-a933-c3db535493e1",
   "metadata": {},
   "outputs": [
    {
     "name": "stdout",
     "output_type": "stream",
     "text": [
      "True\n"
     ]
    }
   ],
   "source": [
    "# Check if all elements in b are greater than 4. \n",
    "print((b > 4).all())"
   ]
  },
  {
   "cell_type": "code",
   "execution_count": 60,
   "id": "e7600e6e-2e37-4f33-9b1e-ba34b924346c",
   "metadata": {},
   "outputs": [
    {
     "name": "stdout",
     "output_type": "stream",
     "text": [
      "[[ 0  1  2  3  4]\n",
      " [ 5  6  7  8  9]\n",
      " [10 11 12 13 14]\n",
      " [15 16 17 18 19]]\n"
     ]
    }
   ],
   "source": [
    "# Reshape the 1D array arr = np.arange(20) into a 4x5 matrix. \n",
    "arr = np.arange(20)\n",
    "print(arr.reshape(4, 5))"
   ]
  },
  {
   "cell_type": "code",
   "execution_count": 61,
   "id": "606547d5-7975-41a4-a723-f8e6306af566",
   "metadata": {},
   "outputs": [
    {
     "name": "stdout",
     "output_type": "stream",
     "text": [
      "[1 2 3 4]\n"
     ]
    }
   ],
   "source": [
    "# \"Flatten\" the 2D array matrix = np.array([[1,2],[3,4]]) into a 1D array.\n",
    "matrix = np.array([[1, 2], [3, 4]])\n",
    "print(matrix.ravel())"
   ]
  },
  {
   "cell_type": "code",
   "execution_count": 64,
   "id": "091c31aa-4d4e-4397-aa60-8df83746d5fb",
   "metadata": {},
   "outputs": [
    {
     "name": "stdout",
     "output_type": "stream",
     "text": [
      "Original array after ravel modification:\n",
      "[[99  2]\n",
      " [ 3  4]]\n",
      "Flatten copy (independent):\n",
      "[1 2 3 4]\n"
     ]
    }
   ],
   "source": [
    "# What is the main difference between .ravel() and .flatten()? \n",
    "arr = np.array([[1, 2], [3, 4]])\n",
    "\n",
    "ravel_view = arr.ravel()\n",
    "flatten_copy = arr.flatten()\n",
    "\n",
    "# Modify ravel_view\n",
    "ravel_view[0] = 99\n",
    "\n",
    "print(\"Original array after ravel modification:\")\n",
    "print(arr)\n",
    "\n",
    "print(\"Flatten copy (independent):\")\n",
    "print(flatten_copy)"
   ]
  },
  {
   "cell_type": "code",
   "execution_count": 65,
   "id": "117917ee-f4a7-4f49-9206-6e65b9cf4c70",
   "metadata": {},
   "outputs": [
    {
     "name": "stdout",
     "output_type": "stream",
     "text": [
      "[[ 0  5 10]\n",
      " [ 1  6 11]\n",
      " [ 2  7 12]\n",
      " [ 3  8 13]\n",
      " [ 4  9 14]]\n"
     ]
    }
   ],
   "source": [
    "# Transpose a 3x5 matrix into a 5x3 matrix.\n",
    "matrix = np.arange(15).reshape(3, 5)\n",
    "print(matrix.T)"
   ]
  },
  {
   "cell_type": "code",
   "execution_count": 66,
   "id": "6e91326c-8425-4cef-a79e-9408e0146555",
   "metadata": {},
   "outputs": [
    {
     "name": "stdout",
     "output_type": "stream",
     "text": [
      "[[1. 1. 1.]\n",
      " [1. 1. 1.]\n",
      " [0. 0. 0.]\n",
      " [0. 0. 0.]]\n"
     ]
    }
   ],
   "source": [
    "# Vertically stack the arrays a = np.ones((2,3)) and b = np.zeros((2,3)). \n",
    "a = np.ones((2, 3))\n",
    "b = np.zeros((2, 3))\n",
    "print(np.vstack((a, b)))"
   ]
  },
  {
   "cell_type": "code",
   "execution_count": 67,
   "id": "36d85c2b-d850-493f-9c6a-e09c3a59f626",
   "metadata": {},
   "outputs": [
    {
     "name": "stdout",
     "output_type": "stream",
     "text": [
      "[[1. 1. 1. 0. 0. 0.]\n",
      " [1. 1. 1. 0. 0. 0.]]\n"
     ]
    }
   ],
   "source": [
    "# Horizontally stack the arrays a and b.\n",
    "print(np.hstack((a, b)))"
   ]
  },
  {
   "cell_type": "code",
   "execution_count": 68,
   "id": "5e9cfc7b-5bb4-434b-8892-a4adfb4d6e88",
   "metadata": {},
   "outputs": [
    {
     "name": "stdout",
     "output_type": "stream",
     "text": [
      "[[1. 1. 1.]\n",
      " [1. 1. 1.]\n",
      " [0. 0. 0.]\n",
      " [0. 0. 0.]]\n"
     ]
    }
   ],
   "source": [
    "#  Use np.concatenate to achieve the same result as vstack with a and b. \n",
    "print(np.concatenate((a, b), axis=0))"
   ]
  },
  {
   "cell_type": "code",
   "execution_count": 69,
   "id": "f99f8f3c-f866-4061-9522-1e7c6b98b0a4",
   "metadata": {},
   "outputs": [
    {
     "name": "stdout",
     "output_type": "stream",
     "text": [
      "[array([0, 1]), array([2, 3]), array([4, 5]), array([6, 7]), array([8, 9])]\n"
     ]
    }
   ],
   "source": [
    "#  Split the array arr = np.arange(10) into 5 equal sub-arrays. \n",
    "arr = np.arange(10)\n",
    "print(np.split(arr, 5))"
   ]
  },
  {
   "cell_type": "code",
   "execution_count": 70,
   "id": "59a59d6e-58bd-4f13-bceb-026d83c1bd1c",
   "metadata": {},
   "outputs": [
    {
     "name": "stdout",
     "output_type": "stream",
     "text": [
      "[array([[ 0,  1],\n",
      "       [ 4,  5],\n",
      "       [ 8,  9],\n",
      "       [12, 13]]), array([[ 2,  3],\n",
      "       [ 6,  7],\n",
      "       [10, 11],\n",
      "       [14, 15]])]\n"
     ]
    }
   ],
   "source": [
    "# Split the 2D array matrix = np.arange(16).reshape(4,4) horizontally into 2 equal arrays.\n",
    "matrix = np.arange(16).reshape(4, 4)\n",
    "print(np.hsplit(matrix, 2))"
   ]
  },
  {
   "cell_type": "code",
   "execution_count": 71,
   "id": "1f2e60fd-9849-4dc7-90af-3587d005abe3",
   "metadata": {},
   "outputs": [
    {
     "name": "stdout",
     "output_type": "stream",
     "text": [
      "[ 1  2 99  3  4]\n"
     ]
    }
   ],
   "source": [
    "# Insert the value 99 at index 2 in the 1D array arr = np.array([1,2,3,4]). \n",
    "arr = np.array([1, 2, 3, 4])\n",
    "print(np.insert(arr, 2, 99))"
   ]
  },
  {
   "cell_type": "code",
   "execution_count": 72,
   "id": "9d47a58a-fb29-447b-ac6e-642b30049daf",
   "metadata": {},
   "outputs": [
    {
     "name": "stdout",
     "output_type": "stream",
     "text": [
      "[1 2 3 4 5]\n"
     ]
    }
   ],
   "source": [
    "# Add the value 5 to the end of array arr. \n",
    "print(np.append(arr, 5))"
   ]
  },
  {
   "cell_type": "code",
   "execution_count": 73,
   "id": "939c596a-d630-4006-8061-511c9dff08fc",
   "metadata": {},
   "outputs": [
    {
     "name": "stdout",
     "output_type": "stream",
     "text": [
      "[1 2 3 4 5]\n"
     ]
    }
   ],
   "source": [
    "# Get the unique values from the array arr = np.array([1,1,2,3,3,3,4,5]). \n",
    "arr = np.array([1, 1, 2, 3, 3, 3, 4, 5])\n",
    "print(np.unique(arr))"
   ]
  },
  {
   "cell_type": "code",
   "execution_count": 74,
   "id": "8f55e804-bc7d-495d-90de-c8a1e6b877b0",
   "metadata": {},
   "outputs": [
    {
     "name": "stdout",
     "output_type": "stream",
     "text": [
      "[1 2 3 1 2 3 1 2 3]\n"
     ]
    }
   ],
   "source": [
    "# Repeat the array [1,2,3] three times to get [1,2,3,1,2,3,1,2,3].\n",
    "arr = np.array([1, 2, 3])\n",
    "print(np.tile(arr, 3))"
   ]
  },
  {
   "cell_type": "code",
   "execution_count": 75,
   "id": "6e14f4f5-cdf5-4c41-8c1c-0b6bdb856742",
   "metadata": {},
   "outputs": [
    {
     "name": "stdout",
     "output_type": "stream",
     "text": [
      "[1 1 1 2 2 2 3 3 3]\n"
     ]
    }
   ],
   "source": [
    "# Repeat each element of [1,2,3] three times to get [1,1,1,2,2,2,3,3,3].\n",
    "print(np.repeat(arr, 3))"
   ]
  },
  {
   "cell_type": "code",
   "execution_count": 76,
   "id": "7709d71b-81cb-4556-a658-86c13f7be6d9",
   "metadata": {},
   "outputs": [
    {
     "name": "stdout",
     "output_type": "stream",
     "text": [
      "[[3 2 1]\n",
      " [6 5 4]]\n"
     ]
    }
   ],
   "source": [
    "# Flip an array horizontally (left to right). \n",
    "matrix = np.array([[1, 2, 3], [4, 5, 6]])\n",
    "print(np.fliplr(matrix))"
   ]
  },
  {
   "cell_type": "code",
   "execution_count": 79,
   "id": "d1157847-537f-4fa3-8c4a-471f2468c93c",
   "metadata": {},
   "outputs": [
    {
     "name": "stdout",
     "output_type": "stream",
     "text": [
      "[[2. 3. 4.]\n",
      " [2. 3. 4.]\n",
      " [2. 3. 4.]\n",
      " [2. 3. 4.]]\n"
     ]
    }
   ],
   "source": [
    "# Add a 1D array v = np.array([1, 2, 3]) to each row of a 2D array M = np.ones((4,3)). What is this concept called?\n",
    "M = np.ones((4, 3))\n",
    "v = np.array([1, 2, 3])\n",
    "print(M + v)"
   ]
  },
  {
   "cell_type": "code",
   "execution_count": 80,
   "id": "f8854e99-3fb0-42b7-b31c-bdfeae0e1f78",
   "metadata": {},
   "outputs": [
    {
     "name": "stdout",
     "output_type": "stream",
     "text": [
      "[[11 22 33]\n",
      " [14 25 36]\n",
      " [17 28 39]]\n"
     ]
    }
   ],
   "source": [
    "#  Can you add a (3,3) matrix and a (3,) vector? If so, how does it work?\n",
    "matrix = np.array([[1, 2, 3],\n",
    "                   [4, 5, 6],\n",
    "                   [7, 8, 9]])\n",
    "vector = np.array([10, 20, 30])\n",
    "print(matrix + vector)"
   ]
  },
  {
   "cell_type": "code",
   "execution_count": 81,
   "id": "a9bcb6fb-42a9-4222-9f52-2b9a22d30aa2",
   "metadata": {},
   "outputs": [
    {
     "name": "stdout",
     "output_type": "stream",
     "text": [
      "[[11 12 13]\n",
      " [24 25 26]\n",
      " [37 38 39]]\n"
     ]
    }
   ],
   "source": [
    "#  Can you add a (3,3) matrix and a (3,1) matrix? \n",
    "matrix = np.array([[1, 2, 3],\n",
    "                   [4, 5, 6],\n",
    "                   [7, 8, 9]])\n",
    "col_vector = np.array([[10], [20], [30]])\n",
    "print(matrix + col_vector)"
   ]
  },
  {
   "cell_type": "code",
   "execution_count": 82,
   "id": "c8137607-8f55-4cd0-9ac8-67d1cc1ce805",
   "metadata": {},
   "outputs": [
    {
     "name": "stdout",
     "output_type": "stream",
     "text": [
      "[0 0 0 0 0 5 6 7 8 9]\n"
     ]
    }
   ],
   "source": [
    "# Create a 1D array arr = np.arange(10). Use np.where to create a new array where values are 0 if the original value was less than 5, and the original value otherwise.\n",
    "arr = np.arange(10)\n",
    "new_arr = np.where(arr < 5, 0, arr)\n",
    "print(new_arr)"
   ]
  },
  {
   "cell_type": "code",
   "execution_count": 83,
   "id": "68fbdd04-f54b-42ca-bcf0-aa374faa898a",
   "metadata": {},
   "outputs": [
    {
     "name": "stdout",
     "output_type": "stream",
     "text": [
      "[0 1 0 1 0 1 0 1 0 1]\n"
     ]
    }
   ],
   "source": [
    "# Use np.where to create a new array from arr where even numbers are replaced by 0 and odd numbers by 1.\n",
    "arr = np.arange(10)\n",
    "binary_arr = np.where(arr % 2 == 0, 0, 1)\n",
    "print(binary_arr)"
   ]
  },
  {
   "cell_type": "code",
   "execution_count": 84,
   "id": "23b21e4c-56e1-4609-8d20-3f8306a54887",
   "metadata": {},
   "outputs": [
    {
     "name": "stdout",
     "output_type": "stream",
     "text": [
      "Original:\n",
      " [[27 81 30 32 84]\n",
      " [31 60 11  2  6]\n",
      " [38 39 94 78  4]\n",
      " [93 92 28 58 55]\n",
      " [98 88 35 92 44]]\n",
      "Modified:\n",
      " [[27 50 30 32 50]\n",
      " [31 50 11  2  6]\n",
      " [38 39 50 50  4]\n",
      " [50 50 28 50 50]\n",
      " [50 50 35 50 44]]\n"
     ]
    }
   ],
   "source": [
    "# Create a 5x5 array of random integers. Use np.where to replace all values greater than 50 with the value 50.\n",
    "arr = np.random.randint(0, 100, size=(5, 5))\n",
    "print(\"Original:\\n\", arr)\n",
    "print(\"Modified:\\n\", np.where(arr > 50, 50, arr))"
   ]
  },
  {
   "cell_type": "code",
   "execution_count": 85,
   "id": "35aec164-f583-4184-81d1-95777432f810",
   "metadata": {},
   "outputs": [
    {
     "name": "stdout",
     "output_type": "stream",
     "text": [
      "[ 1  2  9 10]\n"
     ]
    }
   ],
   "source": [
    "# Create a 1D array from 1 to 10. Extract all numbers that are either less than 3 or greater than 8.\n",
    "arr = np.arange(1, 11)\n",
    "filtered = arr[(arr < 3) | (arr > 8)]\n",
    "print(filtered)"
   ]
  },
  {
   "cell_type": "code",
   "execution_count": 86,
   "id": "94d899e0-5023-47d8-8519-7edfdd084e24",
   "metadata": {},
   "outputs": [
    {
     "name": "stdout",
     "output_type": "stream",
     "text": [
      "[[0 1 2 3 4]\n",
      " [1 2 3 4 5]\n",
      " [2 3 4 5 6]\n",
      " [3 4 5 6 7]]\n"
     ]
    }
   ],
   "source": [
    "# What will be the result of adding a (4,1) array to a (1,5) array? \n",
    "A = np.arange(4).reshape(4, 1)\n",
    "B = np.arange(5).reshape(1, 5)\n",
    "print(A + B)"
   ]
  },
  {
   "cell_type": "code",
   "execution_count": 87,
   "id": "60f97134-fa28-48d6-b21f-25265c9ae73a",
   "metadata": {},
   "outputs": [
    {
     "name": "stdout",
     "output_type": "stream",
     "text": [
      "Original:\n",
      " [[13 65  4 78 16]\n",
      " [90 97 87 95 76]\n",
      " [96 34 41  0 21]\n",
      " [11 87 88 91 78]\n",
      " [35 77 17 23  9]]\n",
      "Normalized:\n",
      " [[-1.15308342  0.33995288 -1.41149354  0.71321195 -1.06694671]\n",
      " [ 1.05775879  1.25874445  0.97162208  1.20131997  0.65578748]\n",
      " [ 1.23003221 -0.55012645 -0.3491408  -1.52634249 -0.92338552]\n",
      " [-1.21050789  0.97162208  1.00033432  1.08647103  0.71321195]\n",
      " [-0.52141421  0.68449972 -1.03823447 -0.86596105 -1.26793236]]\n"
     ]
    }
   ],
   "source": [
    "# Normalize a 5x5 random matrix (subtract the mean and divide by the standard deviation).\n",
    "matrix = np.random.randint(0, 100, size=(5, 5))\n",
    "mean = matrix.mean()\n",
    "std = matrix.std()\n",
    "normalized = (matrix - mean) / std\n",
    "\n",
    "print(\"Original:\\n\", matrix)\n",
    "print(\"Normalized:\\n\", normalized)"
   ]
  },
  {
   "cell_type": "code",
   "execution_count": 88,
   "id": "4002cfa6-4cdb-4098-a7cc-48369e869335",
   "metadata": {},
   "outputs": [
    {
     "name": "stdout",
     "output_type": "stream",
     "text": [
      "[[1 2 3]\n",
      " [1 2 3]\n",
      " [1 2 3]\n",
      " [1 2 3]]\n"
     ]
    }
   ],
   "source": [
    "# Given a 1D array, create a 2D array where each row is a copy of the original array.\n",
    "arr = np.array([1, 2, 3])\n",
    "repeated = np.tile(arr, (4, 1))\n",
    "print(repeated)"
   ]
  },
  {
   "cell_type": "code",
   "execution_count": 89,
   "id": "9c6d68e4-9a85-4225-a636-d7f86b0555db",
   "metadata": {},
   "outputs": [
    {
     "name": "stdout",
     "output_type": "stream",
     "text": [
      "Original: [22 94  2  8 34 96 12 62 96 35]\n",
      "Sorted: [ 2  8 12 22 34 35 62 94 96 96]\n"
     ]
    }
   ],
   "source": [
    "# Create a 1D array of 10 random integers and sort it in ascending order. \n",
    "arr = np.random.randint(0, 100, size=10)\n",
    "print(\"Original:\", arr)\n",
    "print(\"Sorted:\", np.sort(arr))"
   ]
  },
  {
   "cell_type": "code",
   "execution_count": 90,
   "id": "8363d9dd-a7b5-46ee-acc1-1600ca78cfd9",
   "metadata": {},
   "outputs": [
    {
     "name": "stdout",
     "output_type": "stream",
     "text": [
      "Sorted copy: [1 2 5 9]\n",
      "In-place sorted: [1 2 5 9]\n"
     ]
    }
   ],
   "source": [
    "# What is the difference between np.sort(arr) and arr.sort()?\n",
    "arr = np.array([5, 2, 9, 1])\n",
    "sorted_copy = np.sort(arr)\n",
    "arr.sort()\n",
    "\n",
    "print(\"Sorted copy:\", sorted_copy)\n",
    "print(\"In-place sorted:\", arr)"
   ]
  },
  {
   "cell_type": "code",
   "execution_count": 91,
   "id": "0fdea58b-f8c9-4567-b0fe-7679fe2a1c53",
   "metadata": {},
   "outputs": [
    {
     "name": "stdout",
     "output_type": "stream",
     "text": [
      "[1 3 0 2]\n"
     ]
    }
   ],
   "source": [
    "# Find the indices that would sort the array arr = np.array([3, 1, 4, 2]). \n",
    "arr = np.array([3, 1, 4, 2])\n",
    "print(np.argsort(arr))"
   ]
  },
  {
   "cell_type": "code",
   "execution_count": 92,
   "id": "4313eac2-81de-48d3-801a-782c168a550e",
   "metadata": {},
   "outputs": [
    {
     "name": "stdout",
     "output_type": "stream",
     "text": [
      "2\n"
     ]
    }
   ],
   "source": [
    "# Find the index of the maximum value in arr. \n",
    "arr = np.array([3, 1, 4, 2])\n",
    "print(np.argmax(arr))"
   ]
  },
  {
   "cell_type": "code",
   "execution_count": 93,
   "id": "a6634271-bfdc-433a-bd88-9c5b6cbc3d91",
   "metadata": {},
   "outputs": [
    {
     "name": "stdout",
     "output_type": "stream",
     "text": [
      "1\n"
     ]
    }
   ],
   "source": [
    "# Find the index of the minimum value in arr. \n",
    "print(np.argmin(arr))"
   ]
  },
  {
   "cell_type": "code",
   "execution_count": 94,
   "id": "dfd69cb7-bc9b-4084-84fa-aae99331c653",
   "metadata": {},
   "outputs": [
    {
     "name": "stdout",
     "output_type": "stream",
     "text": [
      "[1 2 1]\n"
     ]
    }
   ],
   "source": [
    "# In a 2D array, find the index of the maximum value in each column. \n",
    "matrix = np.array([[1, 5, 3],\n",
    "                   [7, 2, 9],\n",
    "                   [4, 8, 6]])\n",
    "print(np.argmax(matrix, axis=0))"
   ]
  },
  {
   "cell_type": "code",
   "execution_count": 95,
   "id": "3bb8ee23-5f35-42ab-9167-09c7d9ce8cfc",
   "metadata": {},
   "outputs": [
    {
     "name": "stdout",
     "output_type": "stream",
     "text": [
      "Values: [1 2 3]\n",
      "Counts: [2 2 3]\n"
     ]
    }
   ],
   "source": [
    "#  Find the unique values and their counts in the array arr = np.array([1, 2, 2, 3, 3, 3, 1]).\n",
    "arr = np.array([1, 2, 2, 3, 3, 3, 1])\n",
    "values, counts = np.unique(arr, return_counts=True)\n",
    "print(\"Values:\", values)\n",
    "print(\"Counts:\", counts)"
   ]
  },
  {
   "cell_type": "code",
   "execution_count": 96,
   "id": "534ab974-7af7-4b60-97e3-db0aef562c3d",
   "metadata": {},
   "outputs": [
    {
     "name": "stdout",
     "output_type": "stream",
     "text": [
      "[2 3]\n"
     ]
    }
   ],
   "source": [
    "# Find the common elements between two arrays a = np.array([1,2,3]) and b = np.array([2,3,4]).\n",
    "a = np.array([1, 2, 3])\n",
    "b = np.array([2, 3, 4])\n",
    "print(np.intersect1d(a, b))"
   ]
  },
  {
   "cell_type": "code",
   "execution_count": 97,
   "id": "f6d75835-7fd4-4dfd-b30b-ab0ddf93da4a",
   "metadata": {},
   "outputs": [
    {
     "name": "stdout",
     "output_type": "stream",
     "text": [
      "[1]\n"
     ]
    }
   ],
   "source": [
    "# Find the elements in a that are not in b. \n",
    "print(np.setdiff1d(a, b))"
   ]
  },
  {
   "cell_type": "code",
   "execution_count": 98,
   "id": "9ba9d66d-b478-4930-b4bf-fe48b282e57a",
   "metadata": {},
   "outputs": [
    {
     "name": "stdout",
     "output_type": "stream",
     "text": [
      "[[ 5  1]\n",
      " [ 8  2]\n",
      " [10  3]]\n"
     ]
    }
   ],
   "source": [
    "# Sort a 2D array based on its second column.\n",
    "arr = np.array([[10, 3],\n",
    "                [5, 1],\n",
    "                [8, 2]])\n",
    "sorted_indices = np.argsort(arr[:, 1])\n",
    "print(arr[sorted_indices])"
   ]
  },
  {
   "cell_type": "code",
   "execution_count": 99,
   "id": "015b92e0-3203-404e-9541-4b08e79cca75",
   "metadata": {},
   "outputs": [
    {
     "name": "stdout",
     "output_type": "stream",
     "text": [
      "Array: [60 23 29 52 32 36 49 28 36 12]\n",
      "Median: 34.0\n"
     ]
    }
   ],
   "source": [
    "# Find the 50th percentile (median) of a random array. \n",
    "arr = np.random.randint(0, 100, size=10)\n",
    "print(\"Array:\", arr)\n",
    "print(\"Median:\", np.percentile(arr, 50))"
   ]
  },
  {
   "cell_type": "code",
   "execution_count": 100,
   "id": "c0482a05-b5e9-435f-ad13-ecb0e04b0194",
   "metadata": {},
   "outputs": [
    {
     "name": "stdout",
     "output_type": "stream",
     "text": [
      "[28.25 45.75]\n"
     ]
    }
   ],
   "source": [
    "#  Find the 25th and 75th percentiles of an array.\n",
    "print(np.percentile(arr, [25, 75]))"
   ]
  },
  {
   "cell_type": "code",
   "execution_count": 101,
   "id": "c2c7739b-120a-4eb3-9923-aa5a9bff09ec",
   "metadata": {},
   "outputs": [
    {
     "name": "stdout",
     "output_type": "stream",
     "text": [
      "(array([0, 2, 4]),)\n"
     ]
    }
   ],
   "source": [
    "# Find all non-zero elements in the array [1, 0, 2, 0, 3]. \n",
    "arr = np.array([1, 0, 2, 0, 3])\n",
    "print(np.nonzero(arr))"
   ]
  },
  {
   "cell_type": "code",
   "execution_count": 103,
   "id": "3c50a040-1731-4d00-9c13-907ea1f6fd1b",
   "metadata": {},
   "outputs": [
    {
     "name": "stdout",
     "output_type": "stream",
     "text": [
      "[False  True False  True]\n"
     ]
    }
   ],
   "source": [
    "# Check which elements of array a are present in array b.\n",
    "import numpy as np\n",
    "\n",
    "a = np.array([1, 2, 3, 4])\n",
    "b = np.array([2, 4])\n",
    "print(np.isin(a, b))"
   ]
  },
  {
   "cell_type": "code",
   "execution_count": 104,
   "id": "2f1e4670-3486-480a-afeb-e875e605ac9a",
   "metadata": {},
   "outputs": [
    {
     "name": "stdout",
     "output_type": "stream",
     "text": [
      "[45 67 89]\n"
     ]
    }
   ],
   "source": [
    "# Find the top 3 largest values from a 1D array.\n",
    "arr = np.array([10, 45, 23, 67, 89, 12])\n",
    "sorted_arr = np.sort(arr)\n",
    "print(sorted_arr[-3:])"
   ]
  },
  {
   "cell_type": "code",
   "execution_count": 105,
   "id": "a451fe81-8d58-454b-84f9-f9a9a1ae0d30",
   "metadata": {},
   "outputs": [
    {
     "name": "stdout",
     "output_type": "stream",
     "text": [
      "[[19 22]\n",
      " [43 50]]\n"
     ]
    }
   ],
   "source": [
    "# Create a 2x2 matrix A and a 2x2 matrix B. Perform matrix multiplication. \n",
    "A = np.array([[1, 2], [3, 4]])\n",
    "B = np.array([[5, 6], [7, 8]])\n",
    "print(A @ B)  # OR use np.matmul(A, B)"
   ]
  },
  {
   "cell_type": "code",
   "execution_count": 106,
   "id": "8616d724-b295-44ce-a0e1-811bcd8c9ac1",
   "metadata": {},
   "outputs": [
    {
     "name": "stdout",
     "output_type": "stream",
     "text": [
      "[[-2.   1. ]\n",
      " [ 1.5 -0.5]]\n"
     ]
    }
   ],
   "source": [
    "# Find the inverse of matrix A. \n",
    "inv_A = np.linalg.inv(A)\n",
    "print(inv_A)"
   ]
  },
  {
   "cell_type": "code",
   "execution_count": 107,
   "id": "cbc0bfd0-51c8-49e2-bd4d-c4292e47124f",
   "metadata": {},
   "outputs": [
    {
     "name": "stdout",
     "output_type": "stream",
     "text": [
      "-2.000000000000005\n"
     ]
    }
   ],
   "source": [
    "# Find the determinant of matrix B. \n",
    "det_B = np.linalg.det(B)\n",
    "print(det_B)"
   ]
  },
  {
   "cell_type": "code",
   "execution_count": 110,
   "id": "2dc74eee-44e3-4396-ae8e-2f15eef17de2",
   "metadata": {},
   "outputs": [],
   "source": [
    "# Save a NumPy array to a binary file named my_array.npy. \n",
    "# Step 1: Create a NumPy array\n",
    "my_array = np.array([10, 20, 30, 40, 50])\n",
    "\n",
    "# Step 2: Save the array to a binary file\n",
    "np.save('my_array.npy', my_array)"
   ]
  },
  {
   "cell_type": "code",
   "execution_count": 111,
   "id": "8c83fc4a-46bb-46c2-acb8-c62b2406277b",
   "metadata": {},
   "outputs": [
    {
     "name": "stdout",
     "output_type": "stream",
     "text": [
      "[10 20 30 40 50]\n"
     ]
    }
   ],
   "source": [
    "loaded_array = np.load('my_array.npy')\n",
    "print(loaded_array)"
   ]
  },
  {
   "cell_type": "code",
   "execution_count": 112,
   "id": "5ce06329-688e-4fbe-bb88-d85f1c563daf",
   "metadata": {},
   "outputs": [
    {
     "name": "stdout",
     "output_type": "stream",
     "text": [
      "[10 20 30 40 50]\n"
     ]
    }
   ],
   "source": [
    "# Load the array from my_array.npy. \n",
    "loaded_array = np.load('my_array.npy')\n",
    "print(loaded_array)"
   ]
  },
  {
   "cell_type": "code",
   "execution_count": 115,
   "id": "f61d3163-1c4f-42a0-9faa-f15a0f673fd7",
   "metadata": {},
   "outputs": [],
   "source": [
    "# Save a 2D array to a text file my_matrix.csv with comma-separated values. \n",
    "import numpy as np\n",
    "# Step 1: Create a 2D NumPy array\n",
    "my_matrix = np.array([[1, 2, 3],\n",
    "                      [4, 5, 6],\n",
    "                      [7, 8, 9]])\n",
    "\n",
    "# Step 2: Save the array to a CSV file with comma-separated values\n",
    "np.savetxt('my_matrix.csv', my_matrix, delimiter=',', fmt='%d')"
   ]
  },
  {
   "cell_type": "code",
   "execution_count": 116,
   "id": "e9e00f37-31e1-4834-95ad-ff32e6924fbb",
   "metadata": {},
   "outputs": [
    {
     "name": "stdout",
     "output_type": "stream",
     "text": [
      "[[1 2 3]\n",
      " [4 5 6]\n",
      " [7 8 9]]\n"
     ]
    }
   ],
   "source": [
    "# Load the CSV file and print its contents\n",
    "loaded_matrix = np.loadtxt('my_matrix.csv', delimiter=',', dtype=int)\n",
    "print(loaded_matrix)"
   ]
  }
 ],
 "metadata": {
  "kernelspec": {
   "display_name": "Python 3 (ipykernel)",
   "language": "python",
   "name": "python3"
  },
  "language_info": {
   "codemirror_mode": {
    "name": "ipython",
    "version": 3
   },
   "file_extension": ".py",
   "mimetype": "text/x-python",
   "name": "python",
   "nbconvert_exporter": "python",
   "pygments_lexer": "ipython3",
   "version": "3.13.7"
  }
 },
 "nbformat": 4,
 "nbformat_minor": 5
}
